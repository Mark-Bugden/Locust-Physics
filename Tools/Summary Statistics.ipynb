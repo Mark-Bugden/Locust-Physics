{
 "cells": [
  {
   "cell_type": "code",
   "execution_count": 1,
   "id": "9179b37c-2c24-4bbb-87df-ae49494109cd",
   "metadata": {},
   "outputs": [],
   "source": [
    "# This notebook computes summary statistics for the files in our dataset and stores them in a folder 'Outputs/Summary_statistics'"
   ]
  },
  {
   "cell_type": "code",
   "execution_count": 2,
   "id": "5f15831a-2bb0-4496-8a46-573556d76203",
   "metadata": {},
   "outputs": [],
   "source": [
    "# We start by importing all the necessary dependencies\n",
    "\n",
    "import pandas as pd  #The main package we will be using for data analysis. Used to read CSVs/TSVs, work with dataframe objects, and many other things.\n",
    "import matplotlib.pyplot as plt  #The standard plotting package, used for making nice pretty pictures.\n",
    "\n",
    "\n",
    "import os  #We might need this to deal with filenames and paths.\n",
    "import random  #Used to generate random numbers\n",
    "import numpy as np  #We might need this, it's a pretty standard package. \n",
    "import seaborn as sns\n",
    "from scipy import stats\n",
    "import glob\n",
    "import pickle\n",
    "\n",
    "\n",
    "# This gives us a progress bar for longer computations. \n",
    "from tqdm.notebook import tqdm\n",
    "\n",
    "import warnings\n",
    "warnings.filterwarnings('ignore')"
   ]
  },
  {
   "cell_type": "code",
   "execution_count": null,
   "id": "9a0a388b-039d-4fb5-a4e6-d37b1bed1526",
   "metadata": {},
   "outputs": [],
   "source": []
  },
  {
   "cell_type": "code",
   "execution_count": 3,
   "id": "6c9513ea-4cc0-46b0-9293-49ec8425255d",
   "metadata": {},
   "outputs": [],
   "source": [
    "# Put the location of the data folder on your computer\n",
    "input_data_location = 'D:/Data/Hangar-Locust/Cleaned/'\n",
    "subfolder = 'cleaned_2K-locust_16112022/'\n",
    "\n",
    "\n",
    "output_data_location = 'C:/Users/Mark/Code/Locust-Physics/Outputs/Summary_statistics/'"
   ]
  },
  {
   "cell_type": "code",
   "execution_count": 4,
   "id": "6738a096-73b3-428d-91b6-11da080dc288",
   "metadata": {},
   "outputs": [],
   "source": [
    "# Functions needed in the main loop\n",
    "\n",
    "# This function computes and returns various important metadata we might be interested in: the totalframes, framerate, video length, number of markers\n",
    "def video_metadata(df):\n",
    "    \n",
    "\n",
    "    \n",
    "    #Calculates the first, last, and total number of frames\n",
    "    firstframe = df['Frame'].min()\n",
    "    lastframe = df['Frame'].max()\n",
    "    totalframes = lastframe - firstframe +1\n",
    "    \n",
    "    #print(f'The total number of frames is {totalframes}')\n",
    "    \n",
    "    \n",
    "    firsttime = df['Frame'].idxmin()\n",
    "    lasttime = df['Frame'].idxmax()\n",
    "\n",
    "\n",
    "    #Calculates the time difference (remember time is the index in our dataframe) between two consecutive frames. This is the duration of a single frame in seconds\n",
    "    frameduration = df.query('Frame == 2').index.tolist()[0] - df.query('Frame == 1').index.tolist()[0]\n",
    "\n",
    "    #Calculates the framerate, in frames per second\n",
    "    framerate = 1/frameduration\n",
    "    #print(f'The framerate is {framerate} frames per second')\n",
    "\n",
    "    #Calculates the total length of the video in seconds\n",
    "    videolength = totalframes*frameduration\n",
    "    #print(f'The length of the video is {videolength/60:.2f} minutes')\n",
    "    \n",
    "    #Calculates the number of markers\n",
    "    n_markers = int((len(df.columns)-1)/3)\n",
    "    \n",
    "    #Calculates the min and max values for the x, y, and z coordinates\n",
    "    #First subset the columns into x, y, and z \n",
    "    X_subset = [column for column in list(df.columns) if 'X' in column]\n",
    "    Y_subset = [column for column in list(df.columns) if 'Y' in column]\n",
    "    Z_subset = [column for column in list(df.columns) if 'Z' in column]\n",
    "\n",
    "\n",
    "    x_min = np.nanmin(df[X_subset].iloc[:, :].values)\n",
    "    x_max = np.nanmax(df[X_subset].iloc[:, :].values)\n",
    "    y_min = np.nanmin(df[Y_subset].iloc[:, :].values)\n",
    "    y_max = np.nanmax(df[Y_subset].iloc[:, :].values)\n",
    "    z_min = np.nanmin(df[Z_subset].iloc[:, :].values)\n",
    "    z_max = np.nanmax(df[Z_subset].iloc[:, :].values)\n",
    "    \n",
    "    \n",
    "    \n",
    "    \n",
    "    return totalframes, framerate, videolength, n_markers, x_min, x_max, y_min, y_max, z_min, z_max\n",
    "\n",
    "\n",
    "#This function computes how much of the average marker is null\n",
    "def null_metadata(df):\n",
    "    # How many markers do we have?\n",
    "    n_markers = (len(df.columns)-1)/3\n",
    "    #print(f'The number of markers is {n_markers:.0f}')\n",
    "    \n",
    "    \n",
    "    mean_null = df.isnull().sum().mean()*100/len(df)\n",
    "    \n",
    "    return mean_null"
   ]
  },
  {
   "cell_type": "code",
   "execution_count": 5,
   "id": "910a571a-846f-428c-8f5f-1edfab6dd818",
   "metadata": {},
   "outputs": [
    {
     "data": {
      "application/vnd.jupyter.widget-view+json": {
       "model_id": "baf17cb9ed6947349bb861380fe04535",
       "version_major": 2,
       "version_minor": 0
      },
      "text/plain": [
       "  0%|          | 0/4 [00:00<?, ?it/s]"
      ]
     },
     "metadata": {},
     "output_type": "display_data"
    }
   ],
   "source": [
    "# Main loop: For each file in subfolder, load the dataframe and run the functions above. Then, save results as a pickle file. \n",
    "# Also save any required images\n",
    "\n",
    "os.chdir(input_data_location+subfolder)\n",
    "for file in tqdm(glob.glob(\"*.tsv\")):\n",
    "    df = pd.read_csv(input_data_location + subfolder + file, sep='\\t', index_col='Time')\n",
    "    \n",
    "    # Create a new dictionary to store all the summary statistics which will later be saved in pickle file format\n",
    "    summary_stats = {}\n",
    "    \n",
    "    # Store all the video metadata\n",
    "    summary_stats['totalframes'] = video_metadata(df)[0]\n",
    "    summary_stats['framerate'] = video_metadata(df)[1]\n",
    "    summary_stats['videolength'] = video_metadata(df)[2]\n",
    "    summary_stats['n_markers'] = video_metadata(df)[3]\n",
    "    summary_stats['x_min'] = video_metadata(df)[4]\n",
    "    summary_stats['x_max'] = video_metadata(df)[5]\n",
    "    summary_stats['y_min'] = video_metadata(df)[6]\n",
    "    summary_stats['y_max'] = video_metadata(df)[7]\n",
    "    summary_stats['z_min'] = video_metadata(df)[8]\n",
    "    summary_stats['z_max'] = video_metadata(df)[9]\n",
    "\n",
    "    \n",
    "    # Store the mean null\n",
    "    summary_stats['mean_null'] = null_metadata(df)\n",
    "    \n",
    "    \n",
    "    # Save the data as a pickle file\n",
    "    with open(output_data_location + file[:-4] + '.pkl', 'wb') as f:\n",
    "        pickle.dump(summary_stats, f)\n",
    "    \n",
    "    # To open pickle file\n",
    "    #with open(output_data_location + file[:-4] + '.pkl', 'rb') as f:\n",
    "    #    summary_stats = pickle.load(f)\n",
    "    \n",
    "    \n",
    "    # Save the plot showing the distribution of markers based on what percentage of their data is null\n",
    "    ax = (df.isnull().sum()*100/len(df)).plot.hist()\n",
    "    plt.title(f'Distribution of markers based on what percentage of data is null \\n File: {file}')\n",
    "    ax.set(xlabel=\"Percentage of data which is null\", ylabel=\"Count\")\n",
    "    plt.savefig(output_data_location + file[:-4] + '.png')\n",
    "    plt.close()"
   ]
  },
  {
   "cell_type": "code",
   "execution_count": null,
   "id": "25cf68d8-d873-4d54-8dad-6997234b57e4",
   "metadata": {},
   "outputs": [],
   "source": []
  },
  {
   "cell_type": "code",
   "execution_count": null,
   "id": "479c12dc-ee27-498e-b0d4-9b3d39914c4f",
   "metadata": {},
   "outputs": [],
   "source": []
  },
  {
   "cell_type": "code",
   "execution_count": null,
   "id": "5ebae3ef-8396-47a9-9235-02b7c27642b1",
   "metadata": {},
   "outputs": [],
   "source": []
  },
  {
   "cell_type": "code",
   "execution_count": null,
   "id": "c4c70648-7680-4faf-8738-9f66cf14e8ac",
   "metadata": {},
   "outputs": [],
   "source": []
  },
  {
   "cell_type": "code",
   "execution_count": null,
   "id": "bd157517-da0b-4165-90b7-d4126141873d",
   "metadata": {},
   "outputs": [],
   "source": []
  },
  {
   "cell_type": "code",
   "execution_count": 6,
   "id": "6e36ca2b-5bc2-48a1-bde5-44af049fe589",
   "metadata": {},
   "outputs": [],
   "source": [
    "#print(f'The average marker is missing {null_metadata(df):.1f}% of its data')"
   ]
  },
  {
   "cell_type": "code",
   "execution_count": null,
   "id": "34691041-cc71-4e4f-9486-9de8301f1e32",
   "metadata": {},
   "outputs": [],
   "source": []
  },
  {
   "cell_type": "code",
   "execution_count": null,
   "id": "61e4acdd-2341-4fc0-8008-3ab8e828922b",
   "metadata": {},
   "outputs": [],
   "source": []
  },
  {
   "cell_type": "code",
   "execution_count": null,
   "id": "58caab89-df2d-4c66-9d3f-d8282bab5c25",
   "metadata": {},
   "outputs": [],
   "source": []
  },
  {
   "cell_type": "code",
   "execution_count": 7,
   "id": "1f40119f-f90e-436a-a1c4-bff20109da8c",
   "metadata": {},
   "outputs": [],
   "source": [
    "# Save dictionary as pickle file\n",
    "\n",
    "    \n"
   ]
  },
  {
   "cell_type": "code",
   "execution_count": null,
   "id": "634610c3-c937-416c-b119-88444c874a27",
   "metadata": {},
   "outputs": [],
   "source": []
  },
  {
   "cell_type": "code",
   "execution_count": null,
   "id": "520f02e7-87aa-442f-b9c1-f5dbc10a6738",
   "metadata": {},
   "outputs": [],
   "source": []
  }
 ],
 "metadata": {
  "kernelspec": {
   "display_name": "Python 3 (ipykernel)",
   "language": "python",
   "name": "python3"
  },
  "language_info": {
   "codemirror_mode": {
    "name": "ipython",
    "version": 3
   },
   "file_extension": ".py",
   "mimetype": "text/x-python",
   "name": "python",
   "nbconvert_exporter": "python",
   "pygments_lexer": "ipython3",
   "version": "3.10.8"
  }
 },
 "nbformat": 4,
 "nbformat_minor": 5
}
